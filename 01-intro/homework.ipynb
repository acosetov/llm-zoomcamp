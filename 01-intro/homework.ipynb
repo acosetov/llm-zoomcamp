{
 "cells": [
  {
   "cell_type": "code",
   "execution_count": 3,
   "id": "f7d7eb61-87f8-4093-b8e1-6ed85b14760a",
   "metadata": {},
   "outputs": [],
   "source": [
    "from openai import OpenAI\n",
    "import os"
   ]
  },
  {
   "cell_type": "code",
   "execution_count": 5,
   "id": "e7768645-540c-45da-95f9-438311d61ae0",
   "metadata": {},
   "outputs": [],
   "source": [
    "client = OpenAI()"
   ]
  },
  {
   "cell_type": "code",
   "execution_count": 7,
   "id": "11b50e26-b43b-4b80-92df-7ef7981ce3e3",
   "metadata": {},
   "outputs": [],
   "source": [
    "response = client.chat.completions.create(\n",
    "    model='gpt-4o',\n",
    "    messages=[{\"role\": \"user\", \"content\": \"is it to late to join the course?\"}]\n",
    ")"
   ]
  },
  {
   "cell_type": "code",
   "execution_count": 8,
   "id": "d35b12e6-6bf5-4bde-9509-dd66e5bf8f81",
   "metadata": {},
   "outputs": [
    {
     "data": {
      "text/plain": [
       "\"To determine whether it is too late to join a course, you need to consider several factors:\\n\\n1. **Enrollment Deadlines:** Check if the course has specific enrollment deadlines. Many institutions or platforms have cut-off dates for registration.\\n2. **Course Start Date:** If the course has already started, find out if late enrollment is allowed and if there are any conditions for joining late.\\n3. **Space Availability:** Some courses may have a cap on the number of students they can accommodate. Make sure there are still open spots.\\n4. **Institution Policy:** Different schools, universities, or online platforms have varying policies regarding late enrollment. Some may offer flexible admissions, while others may not.\\n5. **Instructor Approval:** In some cases, you may be able to join a course late with the permission of the instructor or course coordinator.\\n6. **Additional Requirements:** There may be extra catch-up work or prerequisites you need to meet if you join late.\\n\\nIf you are unsure about any of these points, it's best to contact the relevant admissions office, course coordinator, or instructor directly to get accurate information.\""
      ]
     },
     "execution_count": 8,
     "metadata": {},
     "output_type": "execute_result"
    }
   ],
   "source": [
    "response.choices[0].message.content"
   ]
  }
 ],
 "metadata": {
  "kernelspec": {
   "display_name": "Python 3 (ipykernel)",
   "language": "python",
   "name": "python3"
  },
  "language_info": {
   "codemirror_mode": {
    "name": "ipython",
    "version": 3
   },
   "file_extension": ".py",
   "mimetype": "text/x-python",
   "name": "python",
   "nbconvert_exporter": "python",
   "pygments_lexer": "ipython3",
   "version": "3.10.13"
  }
 },
 "nbformat": 4,
 "nbformat_minor": 5
}
